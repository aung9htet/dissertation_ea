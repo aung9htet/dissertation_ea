{
 "cells": [
  {
   "cell_type": "code",
   "execution_count": 1,
   "id": "94f2106d",
   "metadata": {},
   "outputs": [],
   "source": [
    "import numpy as np"
   ]
  },
  {
   "cell_type": "code",
   "execution_count": 2,
   "id": "852c448f",
   "metadata": {},
   "outputs": [],
   "source": [
    "def fitness_calculation(candidate):\n",
    "    result = 0\n",
    "    for i in candidate:\n",
    "        result += int(i)\n",
    "    return result\n",
    "\n",
    "def fitness(candidate):\n",
    "    if (fitness_calculation(candidate) == len(candidate)):\n",
    "        return True\n",
    "    else:\n",
    "        return False"
   ]
  },
  {
   "cell_type": "code",
   "execution_count": 3,
   "id": "f03846fc",
   "metadata": {},
   "outputs": [
    {
     "name": "stdout",
     "output_type": "stream",
     "text": [
      "Everything passed\n"
     ]
    }
   ],
   "source": [
    "def test_fitness_calculation():\n",
    "    candidate1 = \"0000000000000000\"\n",
    "    candidate2 = \"1010101010101010\"\n",
    "    candidate3 = \"1111111111111111\"\n",
    "    assert fitness_calculation(candidate1) == 0; \"Should be 0\"\n",
    "    assert fitness_calculation(candidate2) == 8; \"Should be 8\"\n",
    "    assert fitness_calculation(candidate3) == 16; \"Should be 16\"\n",
    "\n",
    "def test_fitness():\n",
    "    candidate1 = \"0000000000000000\"\n",
    "    candidate2 = \"1010101010101010\"\n",
    "    candidate3 = \"1111111111111111\"\n",
    "    assert fitness(candidate1) == False; \"Should be false\"\n",
    "    assert fitness(candidate2) == False; \"Should be false\"\n",
    "    assert fitness(candidate3) == True; \"Should be true\"\n",
    "    \n",
    "if __name__ == \"__main__\":\n",
    "    test_fitness_calculation()\n",
    "    test_fitness()\n",
    "    print(\"Everything passed\")"
   ]
  }
 ],
 "metadata": {
  "kernelspec": {
   "display_name": "Python 3 (ipykernel)",
   "language": "python",
   "name": "python3"
  },
  "language_info": {
   "codemirror_mode": {
    "name": "ipython",
    "version": 3
   },
   "file_extension": ".py",
   "mimetype": "text/x-python",
   "name": "python",
   "nbconvert_exporter": "python",
   "pygments_lexer": "ipython3",
   "version": "3.9.7"
  }
 },
 "nbformat": 4,
 "nbformat_minor": 5
}
