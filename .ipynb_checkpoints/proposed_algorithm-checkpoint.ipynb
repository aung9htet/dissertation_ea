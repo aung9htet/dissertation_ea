{
 "cells": [
  {
   "cell_type": "markdown",
   "id": "e67ca528",
   "metadata": {},
   "source": [
    "## Performance for the proposed algorithm\n",
    "In the following code, I have implemented the (1+1) Opt-IA with Symmetric MexpoHD in which onemax and twomax algorithm has been used to check that it has the desired properties before working further onto its usage in Maxsat problems."
   ]
  },
  {
   "cell_type": "code",
   "execution_count": 1,
   "id": "051e39e4",
   "metadata": {},
   "outputs": [
    {
     "name": "stdout",
     "output_type": "stream",
     "text": [
      "importing Jupyter notebook from onemax.ipynb\n",
      "importing Jupyter notebook from twomax.ipynb\n"
     ]
    }
   ],
   "source": [
    "import numpy as np\n",
    "import import_ipynb\n",
    "import onemax\n",
    "import twomax\n",
    "import time\n",
    "import queue\n",
    "import matplotlib.pyplot as plt\n",
    "import matplotlib.ticker as mticker\n",
    "import sys\n",
    "from random import choice"
   ]
  },
  {
   "cell_type": "code",
   "execution_count": 2,
   "id": "93e50c74",
   "metadata": {},
   "outputs": [],
   "source": [
    "#uniformly distributed initialisation\n",
    "#n = size of the candidate\n",
    "def unif_initialization(n):\n",
    "    bit_list = np.random.randint(2, size = n)\n",
    "    candidate_solution = ''.join(str(bit) for bit in bit_list)\n",
    "    return candidate_solution\n",
    "\n",
    "def unif_mutation(candidate, benchmark_func, run_time, mutation_potential = 0):\n",
    "    \n",
    "    #Will be used to check if there is constructive mutation or the number of bit mutation has reached mutation potential\n",
    "    bit_change_condition = True\n",
    "    \n",
    "    #candidate used to check for constructive mutation\n",
    "    set_candidate = candidate\n",
    "    \n",
    "    #To add the flipped bits\n",
    "    flipped_bit = np.array([])\n",
    "    while bit_change_condition == True:\n",
    "        \n",
    "        #Select bit to flip\n",
    "        bit_change = choice([i for i in range(0,len(candidate)) if i not in flipped_bit])\n",
    "        flipped_bit = np.append(flipped_bit, bit_change)\n",
    "        \n",
    "        #Create new candidate to be used\n",
    "        new_candidate = set_candidate[:bit_change]\n",
    "        if set_candidate[bit_change] == \"0\":\n",
    "            new_candidate += \"1\"\n",
    "        else:\n",
    "            new_candidate += \"0\"\n",
    "        new_candidate += set_candidate[bit_change + 1:]\n",
    "        set_candidate = new_candidate\n",
    "        \n",
    "        #Compare results\n",
    "        if fitness_calculation(new_candidate, benchmark_func) > fitness_calculation(candidate, benchmark_func):\n",
    "            bit_change_condition = False\n",
    "        if (hamming_distance(new_candidate, candidate) >= mutation_potential):\n",
    "            bit_change_condition = False\n",
    "        #Add run-time after checking fitness\n",
    "        run_time += 1\n",
    "    return new_candidate, run_time"
   ]
  },
  {
   "cell_type": "code",
   "execution_count": 3,
   "id": "7879f706",
   "metadata": {},
   "outputs": [],
   "source": [
    "#hamming distance calculation\n",
    "def hamming_distance(candidate1, candidate2):\n",
    "    i = 0\n",
    "    hd = 0\n",
    "    for char1 in list(candidate1):\n",
    "        if (char1 != candidate2[i]):\n",
    "            hd += 1\n",
    "        i += 1\n",
    "    return hd"
   ]
  },
  {
   "cell_type": "code",
   "execution_count": 4,
   "id": "b40f5e47",
   "metadata": {},
   "outputs": [],
   "source": [
    "#mutation potential\n",
    "def symmetric_MexpoHD(n, x, x_origin, best):\n",
    "    power_numerator = hamming_distance(x, x_origin)\n",
    "    power_denominator = np.maximum(hamming_distance(best, x_origin), 1)\n",
    "    power_value = -(power_numerator/power_denominator)\n",
    "    m1 = np.power(n, power_value)\n",
    "    m = int(np.ceil(n*m1))\n",
    "    return m"
   ]
  },
  {
   "cell_type": "code",
   "execution_count": 5,
   "id": "3027f66a",
   "metadata": {},
   "outputs": [],
   "source": [
    "def decide_eliminate_candidate(probabilty_to_eliminate):\n",
    "    p_die = np.random.random_sample()\n",
    "    result = False\n",
    "    if p_die > probabilty_to_eliminate:\n",
    "        result = True\n",
    "    return result"
   ]
  },
  {
   "cell_type": "code",
   "execution_count": 6,
   "id": "9f5553df",
   "metadata": {},
   "outputs": [],
   "source": [
    "def fitness(x, i):\n",
    "    if i == 0: #for onemax\n",
    "        return onemax.fitness(x)\n",
    "    if i == 1: #for twomax\n",
    "        return twomax.fitness(x)\n",
    "\n",
    "def fitness_calculation(x, i):\n",
    "    if i == 0: #for onemax\n",
    "        return onemax.fitness_calculation(x)\n",
    "    if i == 1:\n",
    "        return twomax.fitness_calculation(x)"
   ]
  },
  {
   "cell_type": "code",
   "execution_count": 7,
   "id": "3ad679a9",
   "metadata": {},
   "outputs": [],
   "source": [
    "# The benchmark func has the following meaning. 0 is for onemax and 1 for twomax.\n",
    "# This can also be updated in the fitness and fitness_calculation method to add on more benchmark functions.\n",
    "def immune_algorithm(n, C, benchmark_func):\n",
    "    \n",
    "    age_threshold = n * np.log(n) * C\n",
    "    #initialize x\n",
    "    intialized_candidate = unif_initialization(n)\n",
    "    x = (intialized_candidate, intialized_candidate, 0); best = x[0]\n",
    "    y = (intialized_candidate, intialized_candidate, 0)\n",
    "    # tuple order = (x, origin, age)\n",
    "    \n",
    "    #Evaluate f(x)\n",
    "    termination_condition = fitness(best, benchmark_func)\n",
    "    #Set run time\n",
    "    run_time = 1\n",
    "    local_opt = 0\n",
    "    while (termination_condition == False):\n",
    "        \n",
    "        #add age\n",
    "        x_age = x[2] + 1\n",
    "        x = (x[0], x[1], x_age)\n",
    "        \n",
    "        #mutate x to y and set origin for y\n",
    "        M = symmetric_MexpoHD(n, x[0], x[1], best)\n",
    "        mutation_x, run_time = unif_mutation(x[0], benchmark_func, run_time, mutation_potential = M)\n",
    "        \n",
    "        #Set y.origin = x.origin\n",
    "        y = (mutation_x, x[1], y[2])\n",
    "        \n",
    "        #check fitness between y and x\n",
    "        if (fitness_calculation(y[0], benchmark_func) > fitness_calculation(x[0], benchmark_func)):\n",
    "            #set y.age = 0\n",
    "            y = (y[0], y[1], 0)\n",
    "            #Check best solution\n",
    "            if (fitness_calculation(y[0], benchmark_func) >= fitness_calculation(best, benchmark_func)):\n",
    "                #Set best solution\n",
    "                best = y[0]\n",
    "                termination_condition = fitness(best, benchmark_func)\n",
    "        else:\n",
    "            #add y age\n",
    "            y = (y[0], y[1], x[2])\n",
    "        \n",
    "        #aging mechanism for x and y\n",
    "        collection_candidates = [x,y]\n",
    "        for candidate in collection_candidates:\n",
    "            #check for age threshold and probability to die set at 0.5\n",
    "            if ((candidate[2] > age_threshold) and (decide_eliminate_candidate(0.5) == True)):\n",
    "                #reset the candidate and their age\n",
    "                reset_candidate = unif_initialization(n) #reinitialize\n",
    "                x = (reset_candidate, x[0], 0) \n",
    "                y = (reset_candidate, y[0], 0)\n",
    "                \n",
    "        # best solution selection\n",
    "        if (fitness_calculation(x[0], benchmark_func) < fitness_calculation(y[0], benchmark_func)):\n",
    "            x = (y[0], x[1], x[2])\n",
    "    return run_time\n",
    "            "
   ]
  },
  {
   "cell_type": "markdown",
   "id": "f957ace9",
   "metadata": {},
   "source": [
    "### Table for Opt-IA is applied in Onemax function\n",
    "The following method has been made to depict the graph for proposed Opt-IA algorithm being applied in the onemax function. The method will test from 5 to 25 bits in which each bit will be repeated 20 times to test for the average time taken."
   ]
  },
  {
   "cell_type": "code",
   "execution_count": 8,
   "id": "e513ba17",
   "metadata": {},
   "outputs": [],
   "source": [
    "def worker(queue):\n",
    "    print(\"Hi\")\n",
    "    run_time += immune_algorithm(task[0], task[1], task[2])\n",
    "    return run_time\n",
    "\n",
    "def divide_task(set_args, run_time):\n",
    "    \"\"\"\n",
    "    #Creating processes\n",
    "    for w in range(number_of_processes):\n",
    "        p = Process(target=worker, args = (queue,))\n",
    "        processes.append(p)\n",
    "        p.start()\n",
    "\n",
    "    for process in processes:\n",
    "        p.join()\n",
    "    \"\"\" \n",
    "    run_time\n",
    "    repeat = set_args[3]\n",
    "    number_of_processes = 5\n",
    "    processes = []\n",
    "    task = ([set_args[0], set_args[1], set_args[2]])\n",
    "    print(task)\n",
    "    \n",
    "    p = Process(target=worker, args=(task,))\n",
    "    p.start()\n",
    "    p.join()\n",
    "    return run_time"
   ]
  },
  {
   "cell_type": "code",
   "execution_count": 9,
   "id": "009f33e0",
   "metadata": {},
   "outputs": [
    {
     "name": "stdout",
     "output_type": "stream",
     "text": [
      "Currently working on \u001b[7;37;42m25th\u001b[0m bit out of 25 bits                                          "
     ]
    },
    {
     "data": {
      "image/png": "[encoded data removed]",
      "text/plain": [
       "<Figure size 432x288 with 1 Axes>"
      ]
     },
     "metadata": {
      "needs_background": "light"
     },
     "output_type": "display_data"
    }
   ],
   "source": [
    "#starts from 5 bits until the max_bit\n",
    "#repeat is the number of time repeated and the average time taken from it will be used\n",
    "def plot_graph_onemax(max_bit, repeat):\n",
    "    y_axis = np.array([])\n",
    "    control_y = np.array([])\n",
    "    sys.stdout.write('The process will go through ' + str(max_bit) + ' bits')\n",
    "    sys.stdout.flush()\n",
    "    for n in range(5,max_bit+6):\n",
    "        control_value = np.log(n) * n\n",
    "        control_y = np.append(control_y, control_value)\n",
    "        run_time = 0\n",
    "        for i in range(repeat):\n",
    "            run_time += immune_algorithm(n, 15, 1)\n",
    "        run_time = run_time/repeat\n",
    "        y_axis = np.append(y_axis, run_time)\n",
    "        #To check progress\n",
    "        sys.stdout.write(f\"\\r{' '*100}\\r\")\n",
    "        sys.stdout.flush()\n",
    "        sys.stdout.write('Currently working on ' + '\\x1b[7;37;42m' + str(n) + 'th' + '\\x1b[0m' + ' bit out of ' + str(max_bit + 5) + ' bits')\n",
    "        sys.stdout.flush()\n",
    "    x_axis = np.arange(5,max_bit+6)\n",
    "    plt.xlabel(\"number of bits\")\n",
    "    plt.ylabel(\"run time by number of evaluations\")\n",
    "    plt.plot(x_axis,y_axis, label = \"Symmetric MexpoHD\")\n",
    "    plt.plot(x_axis,control_y, label = \"nlogn\")\n",
    "    plt.legend()\n",
    "    \n",
    "plot_graph_onemax(20, 20)"
   ]
  },
  {
   "cell_type": "code",
   "execution_count": 10,
   "id": "48b6ee11",
   "metadata": {},
   "outputs": [
    {
     "data": {
      "text/plain": [
       "'\\n#test for hamming distance calculation\\ndef test_HD():\\n    test_candidate0 = \"0000000000000000\"\\n    test_candidate1 = \"1000010101010101\"\\n    test_candidate2 = \"0101010100000010\"\\n    assert hamming_distance(test_candidate0, test_candidate1) == 7, \"Should be 7\"\\n    assert hamming_distance(test_candidate1, test_candidate2) == 8; \"Should be 8\"\\n    assert hamming_distance(test_candidate1, test_candidate1) == 0; \"Should be 0\" \\n\\n#test for mutation with the desired mutation potential\\n#16 bit candidate is used in which the mutation potential ranges from 1 to 16\\ndef test_mutation():\\n    for i in range(16):\\n        for j in range(10):\\n            current_candidate = unif_initialization(16)\\n            new_candidate = unif_mutation(current_candidate, 0, 0, i)\\n            assert hamming_distance(current_candidate, new_candidate) <= i; \"Problems with getting the desired mutation potential\"\\n\\nif __name__ == \"__main__\":\\n    test_HD()\\n    test_mutation()\\n    print(\"Everything passed\")\\n'"
      ]
     },
     "execution_count": 10,
     "metadata": {},
     "output_type": "execute_result"
    }
   ],
   "source": [
    "\"\"\"\n",
    "#test for hamming distance calculation\n",
    "def test_HD():\n",
    "    test_candidate0 = \"0000000000000000\"\n",
    "    test_candidate1 = \"1000010101010101\"\n",
    "    test_candidate2 = \"0101010100000010\"\n",
    "    assert hamming_distance(test_candidate0, test_candidate1) == 7, \"Should be 7\"\n",
    "    assert hamming_distance(test_candidate1, test_candidate2) == 8; \"Should be 8\"\n",
    "    assert hamming_distance(test_candidate1, test_candidate1) == 0; \"Should be 0\" \n",
    "\n",
    "#test for mutation with the desired mutation potential\n",
    "#16 bit candidate is used in which the mutation potential ranges from 1 to 16\n",
    "def test_mutation():\n",
    "    for i in range(16):\n",
    "        for j in range(10):\n",
    "            current_candidate = unif_initialization(16)\n",
    "            new_candidate = unif_mutation(current_candidate, 0, 0, i)\n",
    "            assert hamming_distance(current_candidate, new_candidate) <= i; \"Problems with getting the desired mutation potential\"\n",
    "\n",
    "if __name__ == \"__main__\":\n",
    "    test_HD()\n",
    "    test_mutation()\n",
    "    print(\"Everything passed\")\n",
    "\"\"\""
   ]
  },
  {
   "cell_type": "code",
   "execution_count": null,
   "id": "16bbe3a5",
   "metadata": {},
   "outputs": [],
   "source": []
  }
 ],
 "metadata": {
  "kernelspec": {
   "display_name": "Python 3 (ipykernel)",
   "language": "python",
   "name": "python3"
  },
  "language_info": {
   "codemirror_mode": {
    "name": "ipython",
    "version": 3
   },
   "file_extension": ".py",
   "mimetype": "text/x-python",
   "name": "python",
   "nbconvert_exporter": "python",
   "pygments_lexer": "ipython3",
   "version": "3.9.7"
  }
 },
 "nbformat": 4,
 "nbformat_minor": 5
}
