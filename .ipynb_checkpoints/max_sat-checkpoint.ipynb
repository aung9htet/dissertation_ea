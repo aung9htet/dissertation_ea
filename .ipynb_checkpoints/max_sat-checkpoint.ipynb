{
 "cells": [
  {
   "cell_type": "code",
   "execution_count": 2,
   "id": "19ccdce3",
   "metadata": {},
   "outputs": [],
   "source": [
    "import os\n",
    "import numpy as np"
   ]
  },
  {
   "cell_type": "code",
   "execution_count": 17,
   "id": "f784708e",
   "metadata": {},
   "outputs": [
    {
     "name": "stdout",
     "output_type": "stream",
     "text": [
      "[ 1. -2. -3. -4. -5.  6.]\n",
      "3\n"
     ]
    }
   ],
   "source": [
    "def translate_candidate(candidate):\n",
    "    translated_candidate = np.array([])\n",
    "    for i in range(len(candidate)):\n",
    "        if candidate[i] == '0':\n",
    "            translated_candidate = np.append(translated_candidate,-(i+1))\n",
    "        else:\n",
    "            translated_candidate = np.append(translated_candidate, (i+1))\n",
    "    return translated_candidate\n",
    "\n",
    "def fitness_calculation(candidate, cnf_array):\n",
    "    candidate_array = translate_candidate(candidate)\n",
    "    #get clause from cnf\n",
    "    result = 0\n",
    "    for clause in cnf_array:\n",
    "        #get literal from clause\n",
    "        for literal in clause:\n",
    "            #check if literal is part of the candidate\n",
    "            if literal in candidate_array:\n",
    "                #add 1 if one of the literal from the clause is in it and thus satisfying the clause\n",
    "                result += 1\n",
    "                break\n",
    "    return result\n",
    "\n",
    "cnf_array = [[-1,2,3], [0,1,2], [5,1,2], [-1,-2]]\n",
    "\n",
    "print(translate_candidate(\"100001\"))\n",
    "print(fitness_calculation(\"100001\", cnf_array))"
   ]
  },
  {
   "cell_type": "code",
   "execution_count": 25,
   "id": "39ccf44a",
   "metadata": {},
   "outputs": [
    {
     "name": "stdout",
     "output_type": "stream",
     "text": [
      "[  1.  -2.   3.  -4.   5.  -6.   7.  -8.   9. -10.  11. -12.  13. -14.\n",
      "  15. -16.]\n",
      "Everything passed\n"
     ]
    }
   ],
   "source": [
    "def test_fitness_calculation():\n",
    "    cnf_array = [[1,2,-3], [1,5,12], [-11,14,5], [16,-2,-9]]\n",
    "    cnf_array2 = [[1,2,3], [1,5,-12], [-11,-14,-5], [[16,-2,9]]]\n",
    "    candidate1 = \"0000000000000000\"\n",
    "    candidate2 = \"1010101010101010\"\n",
    "    print(translate_candidate(candidate2))\n",
    "    candidate3 = \"1111111111111111\"\n",
    "    assert fitness_calculation(candidate1, cnf_array) == 3; \"Should be 16\"\n",
    "    assert fitness_calculation(candidate2, cnf_array) == 4; \"Should be 8\"\n",
    "    assert fitness_calculation(candidate3, cnf_array) == 4; \"Should be 16\"\n",
    "    \n",
    "if __name__ == \"__main__\":\n",
    "    test_fitness_calculation()\n",
    "    print(\"Everything passed\")"
   ]
  },
  {
   "cell_type": "code",
   "execution_count": null,
   "id": "411556cd",
   "metadata": {},
   "outputs": [],
   "source": []
  }
 ],
 "metadata": {
  "kernelspec": {
   "display_name": "Python 3",
   "language": "python",
   "name": "python3"
  },
  "language_info": {
   "codemirror_mode": {
    "name": "ipython",
    "version": 3
   },
   "file_extension": ".py",
   "mimetype": "text/x-python",
   "name": "python",
   "nbconvert_exporter": "python",
   "pygments_lexer": "ipython3",
   "version": "3.8.8"
  }
 },
 "nbformat": 4,
 "nbformat_minor": 5
}
