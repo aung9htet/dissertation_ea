{
 "cells": [
  {
   "cell_type": "code",
   "execution_count": 1,
   "id": "bc056c10",
   "metadata": {},
   "outputs": [],
   "source": [
    "import os\n",
    "from itertools import islice\n",
    "import numpy as np"
   ]
  },
  {
   "cell_type": "code",
   "execution_count": 27,
   "id": "73cf209a",
   "metadata": {},
   "outputs": [],
   "source": [
    "#select lib for the project from uf75 and uf250. if project doesnt exist return empty array.\n",
    "def process_satlib(select_lib):\n",
    "    str_clauses = \"\"\n",
    "    cnf_lst = []\n",
    "    \n",
    "    #select line for lib\n",
    "    if select_lib == \"uf75\":\n",
    "        directory = (r'C:\\Users\\aung9\\OneDrive\\Desktop\\OneDrive Desktop\\Dissertation\\code\\satlib\\UF75.325.100')\n",
    "        max_clause = 333\n",
    "    elif select_lib == \"uf250\":\n",
    "        directory = (r'C:\\\\Users\\\\aung9\\\\OneDrive\\\\Desktop\\\\OneDrive Desktop\\\\Dissertation\\\\code\\\\satlib\\\\uf250-1065\\\\UF250.1065.100')\n",
    "        max_clause = 1073\n",
    "    else:\n",
    "        return cnf_lst\n",
    "    \n",
    "    number_of_files = len(os.listdir(directory))\n",
    "  \n",
    "    #string manipulation to get the clauses part only\n",
    "    for file in os.listdir(directory):\n",
    "        assert directory\n",
    "        assert file\n",
    "        with open(os.path.join(directory, file), 'r') as f:\n",
    "            for line in islice(f, 8, max_clause):\n",
    "                str_clauses += line.strip()\n",
    "                str_clauses += \" \"\n",
    "            literal_lst = get_literal(str_clauses)\n",
    "            clause_lst = get_clause(literal_lst)\n",
    "            str_clauses = \"\"\n",
    "            cnf_lst.append(clause_lst)\n",
    "    cnf_lst = np.array(cnf_lst)\n",
    "    return cnf_lst\n",
    "\n",
    "def get_literal(str_clauses):\n",
    "    #get array of number\n",
    "    literal_lst = np.array([])\n",
    "    literal_str = \"\"\n",
    "    for character in str_clauses:\n",
    "        #add character to become number\n",
    "        if character.isspace():\n",
    "            if literal_str.isspace() == False:\n",
    "                literal_lst = np.append(literal_lst, int(literal_str))\n",
    "            literal_str = \"\"\n",
    "        else:\n",
    "            literal_str += character\n",
    "    return literal_lst\n",
    "\n",
    "def get_clause(literal_lst):\n",
    "    clauses_lst = np.empty((0,3), int)\n",
    "    clause = np.array([])\n",
    "    for literal in literal_lst:\n",
    "        if literal == 0:\n",
    "            clauses_lst = np.append(clauses_lst, np.array([clause]), axis = 0)\n",
    "            clause = np.array([])\n",
    "        else:\n",
    "            clause = np.append(clause, literal)\n",
    "    return clauses_lst\n",
    "\n",
    "#save processed lib for the project from uf75 and uf250\n",
    "def save_as_npy(select_lib):\n",
    "    if select_lib == \"uf75\":\n",
    "        data = np.asarray(process_satlib(\"uf75\"))\n",
    "        np.save('uf75.npy', data)\n",
    "    elif select_lib == \"uf250\":\n",
    "        data = np.asarray(process_satlib(\"uf250\"))\n",
    "        np.save('uf250.npy', data)"
   ]
  },
  {
   "cell_type": "code",
   "execution_count": null,
   "id": "f24eb739",
   "metadata": {},
   "outputs": [],
   "source": [
    "save_as_npy(\"uf250\")"
   ]
  }
 ],
 "metadata": {
  "kernelspec": {
   "display_name": "Python 3 (ipykernel)",
   "language": "python",
   "name": "python3"
  },
  "language_info": {
   "codemirror_mode": {
    "name": "ipython",
    "version": 3
   },
   "file_extension": ".py",
   "mimetype": "text/x-python",
   "name": "python",
   "nbconvert_exporter": "python",
   "pygments_lexer": "ipython3",
   "version": "3.9.7"
  }
 },
 "nbformat": 4,
 "nbformat_minor": 5
}
