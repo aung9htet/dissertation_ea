{
 "cells": [
  {
   "cell_type": "code",
   "execution_count": 1,
   "id": "a294d1fb",
   "metadata": {},
   "outputs": [],
   "source": [
    "import numpy as np"
   ]
  },
  {
   "cell_type": "code",
   "execution_count": 21,
   "id": "edf1b845",
   "metadata": {},
   "outputs": [],
   "source": [
    "def fitness_calculation(candidate):\n",
    "    result_one = 0 #all ones\n",
    "    for i in candidate:\n",
    "        result_one += int(i)\n",
    "    result_two = len(candidate) - result_one # all zeros\n",
    "    result = np.maximum(result_one, result_two)\n",
    "    return result\n",
    "\n",
    "#best fitness\n",
    "def fitness(candidate, local_opt):\n",
    "    \n",
    "    #calculate result\n",
    "    result_one = 0\n",
    "    for i in candidate:\n",
    "        result_one += int(i)\n",
    "    result_two = len(candidate) - result_one\n",
    "    \n",
    "    result = False\n",
    "    #decide if both optimas is found\n",
    "    if (local_opt == 1): #optimum with all zeros found\n",
    "        if result_one == len(candidate):\n",
    "            result = True\n",
    "    elif (local_opt == 2): #optimum with all ones found\n",
    "        if result_two == len(candidate):\n",
    "            result = True\n",
    "    else:\n",
    "        if result_one == len(candidate):\n",
    "            local_opt = 2\n",
    "        elif result_two == len(candidate):\n",
    "            local_opt = 1\n",
    "    return result, local_opt"
   ]
  },
  {
   "cell_type": "code",
   "execution_count": 22,
   "id": "ea30acb8",
   "metadata": {},
   "outputs": [
    {
     "name": "stdout",
     "output_type": "stream",
     "text": [
      "Everything passed\n"
     ]
    }
   ],
   "source": [
    "def test_fitness_calculation():\n",
    "    candidate1 = \"0000000000000000\"\n",
    "    candidate2 = \"1010101010101010\"\n",
    "    candidate3 = \"1111111111111111\"\n",
    "    assert fitness_calculation(candidate1) == 16; \"Should be 16\"\n",
    "    assert fitness_calculation(candidate2) == 8; \"Should be 8\"\n",
    "    assert fitness_calculation(candidate3) == 16; \"Should be 16\"\n",
    "\n",
    "def test_fitness():\n",
    "    candidate1 = \"0000000000000000\"\n",
    "    candidate2 = \"1010101010101010\"\n",
    "    candidate3 = \"1111111111111111\"\n",
    "    termination_condition, local_opt = fitness(candidate1, 2)\n",
    "    assert termination_condition == True; \"Should be true\"\n",
    "    termination_condition, local_opt = fitness(candidate2, 0)\n",
    "    assert termination_condition == False; \"Should be false\"\n",
    "    termination_condition, local_opt = fitness(candidate3, 1)\n",
    "    assert termination_condition == True; \"Should be true\"\n",
    "    \n",
    "if __name__ == \"__main__\":\n",
    "    test_fitness_calculation()\n",
    "    test_fitness()\n",
    "    print(\"Everything passed\")"
   ]
  },
  {
   "cell_type": "code",
   "execution_count": null,
   "id": "7c0e2441",
   "metadata": {},
   "outputs": [],
   "source": []
  }
 ],
 "metadata": {
  "kernelspec": {
   "display_name": "Python 3",
   "language": "python",
   "name": "python3"
  },
  "language_info": {
   "codemirror_mode": {
    "name": "ipython",
    "version": 3
   },
   "file_extension": ".py",
   "mimetype": "text/x-python",
   "name": "python",
   "nbconvert_exporter": "python",
   "pygments_lexer": "ipython3",
   "version": "3.8.8"
  }
 },
 "nbformat": 4,
 "nbformat_minor": 5
}
