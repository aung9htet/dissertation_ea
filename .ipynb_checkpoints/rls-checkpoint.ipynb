{
 "cells": [
  {
   "cell_type": "code",
   "execution_count": 1,
   "id": "760ff47a",
   "metadata": {},
   "outputs": [
    {
     "name": "stdout",
     "output_type": "stream",
     "text": [
      "importing Jupyter notebook from onemax.ipynb\n"
     ]
    }
   ],
   "source": [
    "import numpy as np\n",
    "import import_ipynb\n",
    "from test_cases.onemax import fitness_calculation, fitness\n",
    "import time\n",
    "import matplotlib.pyplot as plt\n",
    "import matplotlib.ticker as mticker\n",
    "import sys"
   ]
  },
  {
   "cell_type": "code",
   "execution_count": 2,
   "id": "5f7a14e7",
   "metadata": {},
   "outputs": [],
   "source": [
    "#uniformly distributed initialisation\n",
    "#n = size of the candidate\n",
    "def unif_initialization(n):\n",
    "    bit_list = np.random.randint(2, size = n)\n",
    "    candidate_solution = ''.join(str(bit) for bit in bit_list)\n",
    "    return candidate_solution\n",
    "\n",
    "def mutation_operator(candidate):\n",
    "    n = len(candidate)\n",
    "    bit_to_flip = np.random.randint(1, n+1)\n",
    "    new_candidate = candidate[0:bit_to_flip - 1]\n",
    "    if (candidate[bit_to_flip - 1] == '1'):\n",
    "        new_candidate += '0'\n",
    "    else:\n",
    "        new_candidate += '1'\n",
    "    if (bit_to_flip < n):\n",
    "        new_candidate += candidate[bit_to_flip:]\n",
    "    return new_candidate"
   ]
  },
  {
   "cell_type": "code",
   "execution_count": 3,
   "id": "9a080ecb",
   "metadata": {},
   "outputs": [],
   "source": [
    "def fitness(x, i):\n",
    "    if i == 0: #for onemax\n",
    "        return fitness(x)\n",
    "\n",
    "def fitness_calculation(x, i):\n",
    "    if i == 0: #for onemax\n",
    "        returnfitness_calculation(x)"
   ]
  },
  {
   "cell_type": "code",
   "execution_count": 4,
   "id": "a442f38b",
   "metadata": {},
   "outputs": [],
   "source": [
    "def rls(n, benchmark_func):\n",
    "    \n",
    "    #initialize candidate solution\n",
    "    current_candidate = unif_initialization(n)\n",
    "    \n",
    "    #Evaluate f(x)\n",
    "    termination_condition = fitness(current_candidate, benchmark_func)\n",
    "    #set run-time\n",
    "    run_time = 1\n",
    "    while (termination_condition == False):\n",
    "        new_candidate = mutation_operator(current_candidate)\n",
    "        if (fitness_calculation(new_candidate, benchmark_func) >= fitness_calculation(current_candidate, benchmark_func)):\n",
    "            current_candidate = new_candidate\n",
    "        termination_condition = fitness(current_candidate, benchmark_func)\n",
    "        run_time += 1\n",
    "    return run_time"
   ]
  },
  {
   "cell_type": "code",
   "execution_count": 5,
   "id": "4634a1bc",
   "metadata": {},
   "outputs": [
    {
     "name": "stdout",
     "output_type": "stream",
     "text": [
      "Currently working on \u001b[7;37;42m105th\u001b[0m bit out of 105 bits                                        "
     ]
    },
    {
     "data": {
      "image/png": "[encoded data removed]",
      "text/plain": [
       "<Figure size 432x288 with 1 Axes>"
      ]
     },
     "metadata": {
      "needs_background": "light"
     },
     "output_type": "display_data"
    }
   ],
   "source": [
    "#starts from 5 bits until the max_bit\n",
    "#repeat is the number of time repeated and the average time taken from it will be used\n",
    "def plot_graph_onemax(max_bit, repeat):\n",
    "    y_axis = np.array([])\n",
    "    control_y = np.array([])\n",
    "    sys.stdout.write('The process will go through ' + str(max_bit) + ' bits')\n",
    "    sys.stdout.flush()\n",
    "    for n in range(5,max_bit+6):\n",
    "        control_value = np.log(n) * n\n",
    "        control_y = np.append(control_y, control_value)\n",
    "        run_time = 0\n",
    "        for i in range(repeat):\n",
    "            run_time += rls(n, 0)\n",
    "        run_time = run_time/repeat\n",
    "        y_axis = np.append(y_axis, run_time)\n",
    "        #To check progress\n",
    "        sys.stdout.write(f\"\\r{' '*100}\\r\")\n",
    "        sys.stdout.flush()\n",
    "        sys.stdout.write('Currently working on ' + '\\x1b[7;37;42m' + str(n) + 'th' + '\\x1b[0m' + ' bit out of ' + str(max_bit + 5) + ' bits')\n",
    "        sys.stdout.flush()\n",
    "    x_axis = np.arange(5,max_bit+6)\n",
    "    plt.xlabel(\"number of bits\")\n",
    "    plt.ylabel(\"run time by number of evaluations\")\n",
    "    plt.plot(x_axis,y_axis, label = \"rls\")\n",
    "    plt.plot(x_axis,control_y, label = \"nlogn\")\n",
    "    plt.legend()\n",
    "    \n",
    "plot_graph_onemax(100, 20)"
   ]
  },
  {
   "cell_type": "code",
   "execution_count": 6,
   "id": "13acfa0b",
   "metadata": {},
   "outputs": [
    {
     "name": "stdout",
     "output_type": "stream",
     "text": [
      "Everything passed\n"
     ]
    }
   ],
   "source": [
    "#hamming distance calculation\n",
    "def hamming_distance(candidate1, candidate2):\n",
    "    i = 0\n",
    "    hd = 0\n",
    "    for char1 in list(candidate1):\n",
    "        if (char1 != candidate2[i]):\n",
    "            hd += 1\n",
    "        i += 1\n",
    "    return hd\n",
    "\n",
    "#test for hamming distance calculation\n",
    "def test_HD():\n",
    "    test_candidate0 = \"0000000000000000\"\n",
    "    test_candidate1 = \"1000010101010101\"\n",
    "    test_candidate2 = \"0101010100000010\"\n",
    "    assert hamming_distance(test_candidate0, test_candidate1) == 7, \"Should be 7\"\n",
    "    assert hamming_distance(test_candidate1, test_candidate2) == 8; \"Should be 8\"\n",
    "    assert hamming_distance(test_candidate1, test_candidate1) == 0; \"Should be 0\" \n",
    "\n",
    "#test for mutation operator\n",
    "def test_mutation():\n",
    "    for j in range(10):\n",
    "        current_candidate = unif_initialization(16)\n",
    "        new_candidate = mutation_operator(current_candidate)\n",
    "        assert hamming_distance(current_candidate, new_candidate) == 1; \"Problems with getting a neighbour candidate solution\"\n",
    "\n",
    "if __name__ == \"__main__\":\n",
    "    test_HD()\n",
    "    test_mutation()\n",
    "    print(\"Everything passed\")"
   ]
  },
  {
   "cell_type": "code",
   "execution_count": null,
   "id": "5ece795e",
   "metadata": {},
   "outputs": [],
   "source": []
  }
 ],
 "metadata": {
  "kernelspec": {
   "display_name": "Python 3 (ipykernel)",
   "language": "python",
   "name": "python3"
  },
  "language_info": {
   "codemirror_mode": {
    "name": "ipython",
    "version": 3
   },
   "file_extension": ".py",
   "mimetype": "text/x-python",
   "name": "python",
   "nbconvert_exporter": "python",
   "pygments_lexer": "ipython3",
   "version": "3.9.7"
  }
 },
 "nbformat": 4,
 "nbformat_minor": 5
}
