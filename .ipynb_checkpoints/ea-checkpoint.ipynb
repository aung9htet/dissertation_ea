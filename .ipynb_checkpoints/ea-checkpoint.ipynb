{
 "cells": [
  {
   "cell_type": "code",
   "execution_count": 1,
   "id": "0b7386a9",
   "metadata": {},
   "outputs": [
    {
     "name": "stdout",
     "output_type": "stream",
     "text": [
      "importing Jupyter notebook from onemax.ipynb\n"
     ]
    }
   ],
   "source": [
    "import numpy as np\n",
    "import import_ipynb\n",
    "import onemax\n",
    "import time\n",
    "import matplotlib.pyplot as plt\n",
    "import matplotlib.ticker as mticker\n",
    "import sys"
   ]
  },
  {
   "cell_type": "code",
   "execution_count": 2,
   "id": "ee716678",
   "metadata": {},
   "outputs": [],
   "source": [
    "#uniformly distributed initialisation\n",
    "#n = size of the candidate\n",
    "def unif_initialization(n):\n",
    "    bit_list = np.random.randint(2, size = n)\n",
    "    candidate_solution = ''.join(str(bit) for bit in bit_list)\n",
    "    return candidate_solution\n",
    "\n",
    "#mutation operator\n",
    "def mutation_operator(candidate):\n",
    "    n = len(candidate)\n",
    "    probability_to_flip = 1/n\n",
    "    new_candidate = ''\n",
    "    for i in range(n):\n",
    "        check_probability = np.random.random_sample()\n",
    "        if (check_probability < probability_to_flip):\n",
    "            if (candidate[i] == '1'):\n",
    "                new_candidate += '0'\n",
    "            else:\n",
    "                new_candidate += '1'\n",
    "        else:\n",
    "            new_candidate += candidate[i]\n",
    "    return new_candidate"
   ]
  },
  {
   "cell_type": "code",
   "execution_count": 3,
   "id": "d76b889c",
   "metadata": {},
   "outputs": [],
   "source": [
    "def fitness(x, i):\n",
    "    if i == 0: #for onemax\n",
    "        return onemax.fitness(x)\n",
    "\n",
    "def fitness_calculation(x, i):\n",
    "    if i == 0: #for onemax\n",
    "        return onemax.fitness_calculation(x)"
   ]
  },
  {
   "cell_type": "code",
   "execution_count": 4,
   "id": "bd856416",
   "metadata": {},
   "outputs": [],
   "source": [
    "def ea(n, benchmark_func):\n",
    "    \n",
    "    #initialize candidate solution\n",
    "    current_candidate = unif_initialization(n)\n",
    "    \n",
    "    #Evaluate f(x)\n",
    "    termination_condition = fitness(current_candidate, benchmark_func)\n",
    "    #Set run time\n",
    "    run_time = 1\n",
    "    while (termination_condition == False):\n",
    "        new_candidate = mutation_operator(current_candidate)\n",
    "        if (fitness_calculation(new_candidate, benchmark_func) >= fitness_calculation(current_candidate, benchmark_func)):\n",
    "            current_candidate = new_candidate\n",
    "        termination_condition = fitness(current_candidate, benchmark_func)\n",
    "        run_time += 1\n",
    "    return run_time"
   ]
  },
  {
   "cell_type": "code",
   "execution_count": 6,
   "id": "ea25c203",
   "metadata": {},
   "outputs": [
    {
     "name": "stdout",
     "output_type": "stream",
     "text": [
      "Currently working on \u001b[7;37;42m105th\u001b[0m bit out of 105 bits                                        "
     ]
    },
    {
     "data": {
      "image/png": "[encoded data removed]",
      "text/plain": [
       "<Figure size 432x288 with 1 Axes>"
      ]
     },
     "metadata": {
      "needs_background": "light"
     },
     "output_type": "display_data"
    }
   ],
   "source": [
    "#starts from 5 bits until the max_bit\n",
    "#repeat is the number of time repeated and the average time taken from it will be used\n",
    "def plot_graph_onemax(max_bit, repeat):\n",
    "    y_axis = np.array([])\n",
    "    control_y = np.array([])\n",
    "    sys.stdout.write('The process will go through ' + str(max_bit) + ' bits')\n",
    "    sys.stdout.flush()\n",
    "    for n in range(5,max_bit+6):\n",
    "        control_value = np.log(n) * n\n",
    "        control_y = np.append(control_y, control_value)\n",
    "        run_time = 0\n",
    "        for i in range(repeat):\n",
    "            run_time += ea(n, 0)\n",
    "        run_time = run_time/repeat\n",
    "        y_axis = np.append(y_axis, run_time)\n",
    "        #To check progress\n",
    "        sys.stdout.write(f\"\\r{' '*100}\\r\")\n",
    "        sys.stdout.flush()\n",
    "        sys.stdout.write('Currently working on ' + '\\x1b[7;37;42m' + str(n) + 'th' + '\\x1b[0m' + ' bit out of ' + str(max_bit + 5) + ' bits')\n",
    "        sys.stdout.flush()\n",
    "    x_axis = np.arange(5,max_bit+6)\n",
    "    plt.xlabel(\"number of bits\")\n",
    "    plt.ylabel(\"run time by number of evaluations\")\n",
    "    plt.plot(x_axis,y_axis, label = \"(1 + 1) EA\")\n",
    "    plt.plot(x_axis,control_y, label = \"nlogn\")\n",
    "    plt.legend()\n",
    "    \n",
    "plot_graph_onemax(100, 20)"
   ]
  },
  {
   "cell_type": "code",
   "execution_count": null,
   "id": "db82092f",
   "metadata": {},
   "outputs": [],
   "source": []
  }
 ],
 "metadata": {
  "kernelspec": {
   "display_name": "Python 3 (ipykernel)",
   "language": "python",
   "name": "python3"
  },
  "language_info": {
   "codemirror_mode": {
    "name": "ipython",
    "version": 3
   },
   "file_extension": ".py",
   "mimetype": "text/x-python",
   "name": "python",
   "nbconvert_exporter": "python",
   "pygments_lexer": "ipython3",
   "version": "3.9.7"
  }
 },
 "nbformat": 4,
 "nbformat_minor": 5
}
