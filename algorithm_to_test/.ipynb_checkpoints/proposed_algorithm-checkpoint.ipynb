{
 "cells": [
  {
   "cell_type": "code",
   "execution_count": 1,
   "id": "051e39e4",
   "metadata": {},
   "outputs": [],
   "source": [
    "import numpy as np"
   ]
  },
  {
   "cell_type": "code",
   "execution_count": 2,
   "id": "93e50c74",
   "metadata": {},
   "outputs": [],
   "source": [
    "#uniformly distributed initialisation\n",
    "#n = size of the candidate\n",
    "def unif_initialization(n):\n",
    "    bit_list = np.random.randint(2, size = n)\n",
    "    candidate_solution = ''.join(str(bit) for bit in bit_list)\n",
    "    return candidate_solution\n",
    "\n",
    "#uniformly distributed mutation operator\n",
    "def unif_mutation(candidate, mutation_potential = 0):\n",
    "    bit_change = np.random.randint(low = 0, high = 1)\n",
    "    bit_change_condition = True\n",
    "    new_candidate = ''\n",
    "    i = 1\n",
    "    if (mutation_potential == 0):\n",
    "        new_candidate = candidate\n",
    "    else:\n",
    "        while bit_change_condition == True:\n",
    "            new_candidate += str(bit_change)\n",
    "            check_candidate = new_candidate + candidate[i:]\n",
    "            if (hamming_distance(check_candidate, candidate) >= mutation_potential):\n",
    "                new_candidate = check_candidate\n",
    "                bit_change_condition = False\n",
    "            elif (len(new_candidate) == len(candidate)):\n",
    "                bit_change_condition = False\n",
    "            i += 1\n",
    "    return new_candidate"
   ]
  },
  {
   "cell_type": "code",
   "execution_count": 3,
   "id": "7879f706",
   "metadata": {},
   "outputs": [],
   "source": [
    "#hamming distance calculation\n",
    "def hamming_distance(candidate1, candidate2):\n",
    "    i = 0\n",
    "    hd = 0\n",
    "    for char1 in list(candidate1):\n",
    "        if (char1 != candidate2[i]):\n",
    "            hd += 1\n",
    "        i += 1\n",
    "    return hd"
   ]
  },
  {
   "cell_type": "code",
   "execution_count": 4,
   "id": "b40f5e47",
   "metadata": {},
   "outputs": [],
   "source": [
    "#mutation potential\n",
    "def symmetric_MexpoHD(n, x, x_origin, best):\n",
    "    power_numerator = hamming_distance(x, x_origin)\n",
    "    power_denominator = np.maximum(hamming_distance(best, x_origin), 1)\n",
    "    power_value = -(power_numerator/power_denominator)\n",
    "    m1 = np.power(n, power_value)\n",
    "    m = int(np.floor(n*m1))\n",
    "    return m"
   ]
  },
  {
   "cell_type": "code",
   "execution_count": 5,
   "id": "3027f66a",
   "metadata": {},
   "outputs": [],
   "source": [
    "def decide_eliminate_candidate(probabilty_to_eliminate):\n",
    "    p_die = np.random.random_sample()\n",
    "    result = False\n",
    "    if p_die < probabilty_to_eliminate:\n",
    "        result = True\n",
    "    return result"
   ]
  },
  {
   "cell_type": "code",
   "execution_count": 6,
   "id": "3ad679a9",
   "metadata": {},
   "outputs": [],
   "source": [
    "def immune_algorithm(n, age_threshold):\n",
    "    intialized_candidate = unif_initialization(n)\n",
    "    x = (intialized_candidate, intialized_candidate, 0); best = x[0]\n",
    "    y = ('', '', 0) #empty initialization of tuple\n",
    "    # tuple order = (x, origin, age)\n",
    "    termination_condition = fitness(x)\n",
    "    while (termination_condition == False):\n",
    "        x[2] = x[2] + 1\n",
    "        M = symmetric_MexpoHD(n, x[0], x[1], best)\n",
    "        y = unif_mutation(x[0], mutation_potential = M)\n",
    "        y[1] = x[1]\n",
    "        if (fitness(y[0]) > fitness(x[0])):\n",
    "            y[2] = 0\n",
    "            if (fitness(y[0]) >= best):\n",
    "                best = y[0]\n",
    "        else:\n",
    "            y[2] = x[2]\n",
    "        collection_candidates = [x,y]\n",
    "        for candidate in collection_candidates:\n",
    "            if ((candidate[2] > age_threshold) and (decide_eliminate_candidate(0.5) == True)):\n",
    "                x[1] = x[0]; y[1] = y[0] #reset the origin\n",
    "                #reset the candidate and their age\n",
    "                reset_candidate = unif_initialization(n) #reinitialize\n",
    "                x[0] = reset_candidate\n",
    "                y[0] = reset_candidate\n",
    "                x[2] = 0\n",
    "                y[2] = 0\n",
    "        if (fitness_calculation(x) > fitness_calculation(y)):\n",
    "            x[0] = x[0]\n",
    "        elif (fitness_calculation(x) < fitness_calculation(y)):\n",
    "            x[0] = y[0]\n",
    "        else:\n",
    "            x[0] = x[0]\n",
    "    return best\n",
    "            "
   ]
  },
  {
   "cell_type": "code",
   "execution_count": 7,
   "id": "48b6ee11",
   "metadata": {},
   "outputs": [
    {
     "name": "stdout",
     "output_type": "stream",
     "text": [
      "Everything passed\n"
     ]
    }
   ],
   "source": [
    "#test for hamming distance calculation\n",
    "def test_HD():\n",
    "    test_candidate0 = \"0000000000000000\"\n",
    "    test_candidate1 = \"1000010101010101\"\n",
    "    test_candidate2 = \"0101010100000010\"\n",
    "    assert hamming_distance(test_candidate0, test_candidate1) == 7, \"Should be 7\"\n",
    "    assert hamming_distance(test_candidate1, test_candidate2) == 8; \"Should be 8\"\n",
    "    assert hamming_distance(test_candidate1, test_candidate1) == 0; \"Should be 0\" \n",
    "\n",
    "#test for mutation with the desired mutation potential\n",
    "#16 bit candidate is used in which the mutation potential ranges from 1 to 16\n",
    "def test_mutation():\n",
    "    for i in range(16):\n",
    "        for j in range(10):\n",
    "            current_candidate = unif_initialization(16)\n",
    "            new_candidate = unif_mutation(current_candidate, i)\n",
    "            assert hamming_distance(current_candidate, new_candidate) <= i; \"Problems with getting the desired mutation potential\"\n",
    "    \n",
    "if __name__ == \"__main__\":\n",
    "    test_HD()\n",
    "    test_mutation()\n",
    "    print(\"Everything passed\")"
   ]
  },
  {
   "cell_type": "code",
   "execution_count": null,
   "id": "9f5553df",
   "metadata": {},
   "outputs": [],
   "source": []
  }
 ],
 "metadata": {
  "kernelspec": {
   "display_name": "Python 3 (ipykernel)",
   "language": "python",
   "name": "python3"
  },
  "language_info": {
   "codemirror_mode": {
    "name": "ipython",
    "version": 3
   },
   "file_extension": ".py",
   "mimetype": "text/x-python",
   "name": "python",
   "nbconvert_exporter": "python",
   "pygments_lexer": "ipython3",
   "version": "3.9.7"
  }
 },
 "nbformat": 4,
 "nbformat_minor": 5
}
